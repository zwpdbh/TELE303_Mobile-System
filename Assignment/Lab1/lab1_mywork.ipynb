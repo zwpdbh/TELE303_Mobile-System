{
 "cells": [
  {
   "cell_type": "markdown",
   "metadata": {},
   "source": [
    "# Lab 1 - Signaling and DFT"
   ]
  },
  {
   "cell_type": "markdown",
   "metadata": {},
   "source": [
    "This lab involves using Python packages to conduct Fourier analysis of digital signals. This lab is assessed\n",
    "and is worth 2 marks. Complete all the tasks and submit the completed Notebook to the tutor. "
   ]
  },
  {
   "cell_type": "markdown",
   "metadata": {},
   "source": [
    "## Getting started with Numpy"
   ]
  },
  {
   "cell_type": "markdown",
   "metadata": {},
   "source": [
    "NumPy is a fundamental package used for scientific computing and contains an efficient implementation of\n",
    "various utilities in linear algebra, Fourier transform, and statistics. Paired with other packages included in the\n",
    "larger SciPy system 1, including the plotting toolkit \"Matplotlib\" (pylab), it provides powerful open-source\n",
    "tools for mathematics, science and engineering.\n",
    "\n",
    "Before the lab, please read through the NumPy Tutorial (ref. links at the Piazza site) to get familiar with\n",
    "the basic syntax of NumPy. You can use Python/IDLE to work with the following scripts."
   ]
  },
  {
   "cell_type": "markdown",
   "metadata": {},
   "source": [
    "## Signal and spectrum"
   ]
  },
  {
   "cell_type": "markdown",
   "metadata": {},
   "source": [
    "Recall in Lecture 2 we looked at the basic form of all analog signals - (co)sine waves. Now we can investigate,\n",
    "in a digital setting, the effect of three key elements for a sine wave: amplitude, frequency and phase."
   ]
  },
  {
   "cell_type": "markdown",
   "metadata": {},
   "source": [
    "### A simple sine wave"
   ]
  },
  {
   "cell_type": "markdown",
   "metadata": {},
   "source": [
    "Now we generate a simple sine wave."
   ]
  },
  {
   "cell_type": "code",
   "execution_count": null,
   "metadata": {
    "collapsed": true
   },
   "outputs": [],
   "source": [
    "#import necessary libraries, using short-hands\n",
    "import numpy as np\n",
    "import pylab as pl\n",
    "# make graphics embedded\n",
    "%matplotlib inline\n",
    "\n",
    "#timet is an array,ranged from 0.0 to 1.0second, with 0.001sec increments\n",
    "t=np.arange(0.0,1.0,0.001)\n",
    "s=3*np.sin(2*np.pi*2*t)"
   ]
  },
  {
   "cell_type": "code",
   "execution_count": null,
   "metadata": {
    "collapsed": false
   },
   "outputs": [],
   "source": [
    "#plot the signals against timet\n",
    "l,=pl.plot(t,s,lw=2,color='red')"
   ]
  },
  {
   "cell_type": "markdown",
   "metadata": {},
   "source": [
    "Answer these questions:\n",
    "\n",
    "**Q1**. What is the amplitude, and frequency of the sine wave?\n",
    "\n",
    "Click and type in your answer: \n",
    "- $A$=      , $f$= ?? Hz.\n",
    "\n",
    "**Q2**. What is the sampling rate? Does it satisfy Nyquist's theorem? (Tip: check the Python code.)\n",
    "- Sampling rate is ...\n",
    "\n",
    "**Task A**: Modify the code, so that it displays a composite function $s(t) = 3 sin(2\\pi 2t)+ 2 sin(2\\pi 5t)$. "
   ]
  },
  {
   "cell_type": "code",
   "execution_count": null,
   "metadata": {
    "collapsed": true
   },
   "outputs": [],
   "source": [
    "## Type in your Task 1 code hereafter\n",
    "\n",
    "\n"
   ]
  },
  {
   "cell_type": "markdown",
   "metadata": {},
   "source": [
    "**Q3**: Do you think $s(t)$ is periodic? If yes what's its frequency?\n",
    "Your answer:\n",
    "- \n",
    "    \n"
   ]
  },
  {
   "cell_type": "markdown",
   "metadata": {},
   "source": [
    "## Make it interactive"
   ]
  },
  {
   "cell_type": "markdown",
   "metadata": {},
   "source": [
    "We now add some subplots and UI control components. Run the following \n",
    "script, and see how different settings change the waveform."
   ]
  },
  {
   "cell_type": "code",
   "execution_count": null,
   "metadata": {
    "collapsed": false
   },
   "outputs": [],
   "source": [
    "import numpy as np\n",
    "import pylab as pl\n",
    "from matplotlib.widgets import Slider, Button, RadioButtons\n",
    "# turn off inline graphics; you'll get a pop-up\n",
    "%matplotlib auto\n",
    "ax = pl.subplot(111)\n",
    "pl.subplots_adjust(left=0.15, bottom=0.35)\n",
    "t = np.arange(0.0, 1.0, 0.001)\n",
    "a0 = 5\n",
    "f0 = 3\n",
    "p0 = 0\n",
    "s = a0*np.sin(2*np.pi*f0*t)\n",
    "l, = pl.plot(t,s, lw=2, color='red')\n",
    "pl.axis([0, 1, -10, 10])\n",
    "\n",
    "axcolor = 'lightgoldenrodyellow'\n",
    "axfreq = pl.axes([0.15, 0.2, 0.65, 0.03], axisbg=axcolor)\n",
    "axamp  = pl.axes([0.15, 0.15, 0.65, 0.03], axisbg=axcolor)\n",
    "axph = pl.axes([0.15, 0.1, 0.65, 0.03], axisbg=axcolor)\n",
    "\n",
    "sfreq = Slider(axfreq, 'Freq', 0.1, 30.0, valinit=f0)\n",
    "samp = Slider(axamp, 'Amp', 0.1, 10.0, valinit=a0)\n",
    "sph = Slider(axph, 'Phase', -180, 180.0, valinit=p0)\n",
    "\n",
    "def update(val):\n",
    "    amp = samp.val\n",
    "    freq = sfreq.val\n",
    "    ph = sph.val\n",
    "    l.set_ydata(amp*np.sin(2*np.pi*freq*t+ph/180.0*np.pi))\n",
    "    pl.draw()\n",
    "sfreq.on_changed(update)\n",
    "samp.on_changed(update)\n",
    "sph.on_changed(update)\n",
    "\n",
    "resetax = pl.axes([0.8, 0.025, 0.1, 0.04])\n",
    "button = Button(resetax, 'Reset', color=axcolor, hovercolor='0.975')\n",
    "def reset(event):\n",
    "    sfreq.reset()\n",
    "    samp.reset()\n",
    "    sph.reset()\n",
    "button.on_clicked(reset)\n",
    "pl.show()"
   ]
  },
  {
   "cell_type": "markdown",
   "metadata": {},
   "source": [
    "**Q4**. What is the phoase needed for getting a cosine wave?\n",
    "- Answer: "
   ]
  },
  {
   "cell_type": "markdown",
   "metadata": {},
   "source": [
    "## DFT"
   ]
  },
  {
   "cell_type": "markdown",
   "metadata": {},
   "source": [
    "We have played a bit with waveforms, but what about the spectrum? We need to use Fourier transform,\n",
    "which decomposes a signal into a set of sine waves. For a digital signal the Discrete Fourier Transform\n",
    "extracts the frequency components on discrete intervals $f_k = 2k\\pi/N (k=0,1,..., N-1)$ for a signal of length\n",
    "$N$). The series of the amplitudes over the N frequency levels makes the power spectrum of the signal. FFT\n",
    "is a fast algorithm for DFT.\n",
    "\n",
    "FFT can get quite complicated, but fortunately DFT/FFT has been implemented in NumPy. Have a try\n",
    "with the following:"
   ]
  },
  {
   "cell_type": "code",
   "execution_count": null,
   "metadata": {
    "collapsed": false
   },
   "outputs": [],
   "source": [
    "%matplotlib inline\n",
    "# get the PI value\n",
    "PI=np.pi\n",
    "# specify sampling rate (Hz) and sampling time length (s)\n",
    "samplrate=1000\n",
    "nsec=1.0   # 1 second\n",
    "# get the discrete sampling time sequence\n",
    "#t=sp.r_[0:nsec:1.0/samplrate]\n",
    "t=np.arange(0,nsec,1.0/samplrate)\n",
    "# here's a signal (f=? Hz)\n",
    "sig=np.sin(2*PI*10*t)\n",
    "# plot out the waveform\n",
    "pl.figure(1)\n",
    "pl.plot(sig)\n",
    "pl.title('Original sig')\n",
    "\n",
    "# conduct FFT\n",
    "fftout=np.fft.fft(sig)\n",
    "# get the power spectrum\n",
    "ps=np.abs(fftout)\n",
    "# the rest is for visualisation\n",
    "pl.figure(2)\n",
    "pl.plot(ps)\n",
    "pl.xlabel('n')\n",
    "pl.ylabel('Amplitude')\n",
    "pl.title('After FFT')\n",
    "\n",
    "##'''\n",
    "s_res=np.fft.ifft(fftout).real\n",
    "pl.figure(3)\n",
    "pl.plot(s_res)\n",
    "pl.title('After IFFT')"
   ]
  },
  {
   "cell_type": "markdown",
   "metadata": {},
   "source": [
    "Answer these questions:\n",
    "\n",
    "**Q5** What is the signal in mathematical form? What is its frequency?\n",
    "- Answer:\n",
    "\n",
    "**Q6** Explain the spikes observed in the spectrum plot.\n",
    "- Answer: \n"
   ]
  },
  {
   "cell_type": "markdown",
   "metadata": {},
   "source": [
    "## The Problem of Dial Tones"
   ]
  },
  {
   "cell_type": "markdown",
   "metadata": {},
   "source": [
    "Let us make this lab a little more interesting by looking into a real world application. Dual Tone Multi-Frequency (DTMF) is an important technique used in wireline and mobile phones. Suppose we are using a\n",
    "call centre service and need to key in some numbers (e.g., a menu selection, or a PIN). How does the call\n",
    "centre automatically make out which key/number has been pressed on your phone?\n",
    "DTMF uses a simple addition of two frequency components to indicate which key on a telephone touch\n",
    "pad is being pressed. The frequency-digit relationship is listed below:\n",
    "\n",
    "| Freq.  | 1209Hz | 1336Hz | 1477 Hz\n",
    "| :- | :-: | :-: | :-: \n",
    "| 697Hz  |   1    |   2    |   3    \n",
    "| 770Hz  |   4    |   5    |   6   \n",
    "| 852Hz  |   7    |   8    |   9\n",
    "| 941Hz  |   *    |   0    |   #\n",
    "\n",
    "Here the column corresponds to a high frequency, and the row corresponds to the low frequency. For\n",
    "example, pressing the hash key # would generate a signal as the sum of two sine waves, one in 1477 Hz (high\n",
    "frequency), and another in 941 Hz (low frequency).\n",
    "\n",
    "**Task B**. Use the example code and generate the waveform for digit '5' by using two frequencies; \n",
    "display the power spectrum. Note you'll need to set an appropriate sampling rate. Carry out FFT on the composite signal and display the spectrum. \n"
   ]
  },
  {
   "cell_type": "code",
   "execution_count": null,
   "metadata": {
    "collapsed": true
   },
   "outputs": [],
   "source": [
    "## Your code for Task B ...\n",
    "\n",
    "\n",
    "   "
   ]
  }
 ],
 "metadata": {
  "kernelspec": {
   "display_name": "Python 2",
   "language": "python",
   "name": "python2"
  },
  "language_info": {
   "codemirror_mode": {
    "name": "ipython",
    "version": 2
   },
   "file_extension": ".py",
   "mimetype": "text/x-python",
   "name": "python",
   "nbconvert_exporter": "python",
   "pygments_lexer": "ipython2",
   "version": "2.7.11"
  }
 },
 "nbformat": 4,
 "nbformat_minor": 0
}
