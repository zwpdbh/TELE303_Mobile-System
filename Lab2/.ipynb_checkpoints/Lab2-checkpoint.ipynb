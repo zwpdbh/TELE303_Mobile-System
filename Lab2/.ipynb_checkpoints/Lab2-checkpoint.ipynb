{
 "cells": [
  {
   "cell_type": "markdown",
   "metadata": {},
   "source": [
    "# TELE303 Tutorial / Lab 2 - CDMA"
   ]
  },
  {
   "cell_type": "markdown",
   "metadata": {},
   "source": [
    "This tutorial lab involves using Python packages to simulate DSSS and CDMA. Our objectives are:\n",
    "- Understand the algorithm of direct sequence spread spectrum (DSSS)\n",
    "- Simulate CDMA using Numpy\n",
    "- Understand the near-far effect in CDMA\n",
    "\n",
    "This lab is assessed and is worth 3 marks. Complete all the tasks and report to the tutor."
   ]
  },
  {
   "cell_type": "markdown",
   "metadata": {},
   "source": [
    "## DSSS by paper-and-pencil"
   ]
  },
  {
   "cell_type": "markdown",
   "metadata": {},
   "source": [
    "Work on the distributed worksheet. You'll find this paper-n-pencil approach useful for completing further tasks. Note:\n",
    "1. Make sure the chips are in the bipolar +1/-1 form.\n",
    "2. Work on *Sending*: sender copies the chip into the signal sequence if sending \"1\"; if sending \"0\", reverse the signs.\n",
    "3. Work then on the *Composite signal*: merging signals sent by different users.\n",
    "4. Now, on *Decoding*: Correlate the composite signal with a chip; positive result means 1, otherwise 0\n",
    "5. *Reset* the channel for further transmission."
   ]
  },
  {
   "cell_type": "markdown",
   "metadata": {},
   "source": [
    "## DSSS by Python"
   ]
  },
  {
   "cell_type": "markdown",
   "metadata": {},
   "source": [
    "To do the same operations in Python, we take advantage of Numpy's simple syntax for array operations. Especially, when a number multiplies with an array, the multiplication goes for every element of the array. For example, run the following lines:"
   ]
  },
  {
   "cell_type": "code",
   "execution_count": 5,
   "metadata": {
    "collapsed": false
   },
   "outputs": [
    {
     "data": {
      "text/plain": [
       "array([2, 4, 6, 8])"
      ]
     },
     "execution_count": 5,
     "metadata": {},
     "output_type": "execute_result"
    }
   ],
   "source": [
    "import numpy as np\n",
    "np.array([1, 2, 3, 4])*2"
   ]
  },
  {
   "cell_type": "markdown",
   "metadata": {},
   "source": [
    "And correlation can be worked out simply with \"np.sum(a * b)\" if a and b are two Numpy arrays. We define several functions for the respective DSSS operations:"
   ]
  },
  {
   "cell_type": "code",
   "execution_count": 6,
   "metadata": {
    "collapsed": true
   },
   "outputs": [],
   "source": [
    "### CDMA simulation\n",
    "import numpy as np\n",
    "\n",
    "### converts binary stream (0/1) into bipolar form (1/-1)\n",
    "### '1' ->  1, '0' -> -1\n",
    "def bipole(bits):\n",
    "    return bits*2-1\n",
    "\n",
    "### sends operation: encode the data bit and store it into 'channel'\n",
    "def send(bit,chip,power=1):\n",
    "    bp=bipole(bit)\n",
    "    # TODO: modify the following line so \"power\" can scale up the sig \n",
    "    sig=bp*chip*power\n",
    "    return sig\n",
    "\n",
    "### receives and decodes the composite signal in channel using a chip.\n",
    "def recv(chan,chip):\n",
    "    # do a correlation\n",
    "    corr=np.sum(chan*chip)\n",
    "    print \"(\", corr,\")\",\n",
    "    if corr>0: return '1'\n",
    "    if corr<0: return '0'\n",
    "    ### corr==0 then the decoder is confused and will have to guess\n",
    "    else: return 'X'\n",
    "    \n",
    "### reset channel for each transmission\n",
    "def resetChannel(chan):\n",
    "    for i in range(len(chan)): chan[i]=0.0"
   ]
  },
  {
   "cell_type": "markdown",
   "metadata": {},
   "source": [
    "Now we simulate a scenario we just attempted:"
   ]
  },
  {
   "cell_type": "code",
   "execution_count": 7,
   "metadata": {
    "collapsed": false
   },
   "outputs": [
    {
     "name": "stdout",
     "output_type": "stream",
     "text": [
      "Users send: 0 and 1\n",
      "User1 sent ( -4.0 ) 0\n",
      "User2 sent ( 4.0 ) 1\n"
     ]
    }
   ],
   "source": [
    "### Two binary chips, A:[1 1 0 1 1 0], B: [1 1 0 0 1 1]\n",
    "chip1=np.array([1,1,-1,1,1,-1])\n",
    "chip2=np.array([1,1,-1,-1,1,1])\n",
    "# initialize the \"channel\"\n",
    "chan=np.zeros(6)\n",
    "### Simulate Scenario 3 ###\n",
    "print \"Users send: 0 and 1\"\n",
    "chan+=send(0,chip1)\n",
    "chan+=send(1,chip2)\n",
    "\n",
    "# User e recvs and decodes\n",
    "# using user1's chip\n",
    "print 'User1 sent', recv(chan,chip1)\n",
    "# using user2's chip\n",
    "print 'User2 sent', recv(chan,chip2)\n",
    "\n",
    "resetChannel(chan)"
   ]
  },
  {
   "cell_type": "markdown",
   "metadata": {},
   "source": [
    "**Task 1**. Follow the example given above and simulate Scenario 4 and 5. "
   ]
  },
  {
   "cell_type": "code",
   "execution_count": 1,
   "metadata": {
    "collapsed": false
   },
   "outputs": [
    {
     "name": "stdout",
     "output_type": "stream",
     "text": [
      "for Scenario 4\n",
      "User1 sent ( -10.0 ) 0\n",
      "User1 sent ( 2.0 ) 1\n",
      "for Scenario 5\n",
      "User1 sent ( 0.0 ) X\n",
      "User1 sent ( 16.0 ) 1\n"
     ]
    }
   ],
   "source": [
    "import numpy as np\n",
    "\n",
    "### converts binary stream (0/1) into bipolar form (1/-1)\n",
    "### '1' ->  1, '0' -> -1\n",
    "def bipole(bits):\n",
    "    return bits*2-1\n",
    "\n",
    "### sends operation: encode the data bit and store it into 'channel'\n",
    "def send(bit,chip,power=1):\n",
    "    bp=bipole(bit)\n",
    "    # TODO: modify the following line so \"power\" can scale up the sig \n",
    "    sig=bp*chip*power\n",
    "    return sig\n",
    "\n",
    "### receives and decodes the composite signal in channel using a chip.\n",
    "def recv(chan,chip):\n",
    "    # do a correlation\n",
    "    corr=np.sum(chan*chip)\n",
    "    print \"(\", corr,\")\",\n",
    "    if corr>0: return '1'\n",
    "    if corr<0: return '0'\n",
    "    ### corr==0 then the decoder is confused and will have to guess\n",
    "    else: return 'X'\n",
    "    \n",
    "### reset channel for each transmission\n",
    "def resetChannel(chan):\n",
    "    for i in range(len(chan)): chan[i]=0.0\n",
    "        \n",
    "# ====================================================================\n",
    "\n",
    "## Code for Scenario 4\n",
    "chip1=np.array([1,1,-1,1,1,-1])\n",
    "chip2=np.array([1,1,-1,-1,1,1])\n",
    "\n",
    "# using chips to encode the bit and get chipSequence \n",
    "chipSequence1 = send(0, chip1, 2)\n",
    "chipSequence2 = send(1, chip2, 1)\n",
    "\n",
    "# adding to chipSequence on the channnel\n",
    "chan = np.zeros(6)\n",
    "chan += chipSequence1\n",
    "chan += chipSequence2\n",
    "\n",
    "# decode and print out the received bit on receiver side\n",
    "print \"for Scenario 4\"\n",
    "print 'User1 sent', recv(chan,chip1)\n",
    "print 'User1 sent', recv(chan,chip2)\n",
    "\n",
    "resetChannel(chan)\n",
    "\n",
    "\n",
    "## ================================Code for Scenario 5\n",
    "chipSequence1 = send(0, chip1, 1)\n",
    "chipSequence2 = send(1, chip2, 3)\n",
    "\n",
    "# adding to chipSequence on the channnel\n",
    "chan = np.zeros(6)\n",
    "chan += chipSequence1\n",
    "chan += chipSequence2\n",
    "\n",
    "# decode and print out the received bit on receiver side\n",
    "print \"for Scenario 5\"\n",
    "print 'User1 sent', recv(chan,chip1)\n",
    "print 'User1 sent', recv(chan,chip2)\n"
   ]
  },
  {
   "cell_type": "markdown",
   "metadata": {},
   "source": [
    "## PXT and the Near-Far Effect"
   ]
  },
  {
   "cell_type": "markdown",
   "metadata": {},
   "source": [
    "Now, let's put our Python code to a better use and simulate a simple PXT operation. Suppose users A and B are sending two pictures (both are binary images, with pixel valued as 0 or 1) to user C. The transmission is synchronized, i.e., one pixel is sent at a time from both A and B. User C interprets the transmission and decodes the pixel sent from A and\n",
    "B respectively. Then the channel is reset, and the next pixel is sent... The following code handles image reading and displaying:"
   ]
  },
  {
   "cell_type": "code",
   "execution_count": 2,
   "metadata": {
    "collapsed": false
   },
   "outputs": [
    {
     "data": {
      "text/plain": [
       "<matplotlib.text.Text at 0x10b301a10>"
      ]
     },
     "execution_count": 2,
     "metadata": {},
     "output_type": "execute_result"
    },
    {
     "data": {
      "image/png": "[encoded data removed]",
      "text/plain": [
       "<matplotlib.figure.Figure at 0x10b185d90>"
      ]
     },
     "metadata": {},
     "output_type": "display_data"
    }
   ],
   "source": [
    "import pylab as pl\n",
    "%matplotlib inline\n",
    "### Read pictures into pixel arrays\n",
    "pixar1=pl.imread('Einstein.png')\n",
    "pixar2=pl.imread('Monroe.png')\n",
    "h,w=pixar1.shape\n",
    "\n",
    "# Show pics\n",
    "fig1=pl.figure('Orig. pics')\n",
    "pl.subplot(121)\n",
    "pl.imshow(pixar1,interpolation='nearest',cmap=pl.cm.gray)\n",
    "pl.xlabel('Image 1')\n",
    "pl.subplot(122)\n",
    "pl.imshow(pixar2,interpolation='nearest',cmap=pl.cm.gray)\n",
    "pl.xlabel('Image 2')"
   ]
  },
  {
   "cell_type": "markdown",
   "metadata": {},
   "source": [
    "The variables *h* and *w* store the shape of the images. Now we can iterate through every pixel of the images for transmission and then decoding. \n",
    "\n",
    "**Task 2**. Reuse the DSSS code given above and complete the following code for tranmitting and decoding the image data. Note you'll need to change the \"recv\" function so that it always returns either 0 or 1 (making a random guess when necessary). "
   ]
  },
  {
   "cell_type": "code",
   "execution_count": 23,
   "metadata": {
    "collapsed": false
   },
   "outputs": [
    {
     "data": {
      "text/plain": [
       "<matplotlib.text.Text at 0x116ef1810>"
      ]
     },
     "execution_count": 23,
     "metadata": {},
     "output_type": "execute_result"
    },
    {
     "data": {
      "image/png": "[encoded data removed]",
      "text/plain": [
       "<matplotlib.figure.Figure at 0x113837350>"
      ]
     },
     "metadata": {},
     "output_type": "display_data"
    }
   ],
   "source": [
    "import pylab as pl\n",
    "%matplotlib inline\n",
    "\n",
    "# Redefine the recv()...\n",
    "def recv(chan,chip):\n",
    "    # do a correlation\n",
    "    corr=np.sum(chan*chip)\n",
    "    #print \"(\", corr,\")\",\n",
    "    if corr>0: return '1'\n",
    "    else: \n",
    "        return '0'\n",
    "    \n",
    "# my encoding chips\n",
    "chip1=np.array([1,1,-1,1,1,-1])\n",
    "chip2=np.array([1,1,-1,-1,1,1])\n",
    "\n",
    "\n",
    "### Read pictures into pixel arrays\n",
    "pixar1=pl.imread('Einstein.png')\n",
    "pixar2=pl.imread('Monroe.png')\n",
    "h,w=pixar1.shape\n",
    "\n",
    "\n",
    "# allocate new 2-D arrays to hold recvd pics   \n",
    "rcvdpic1=np.zeros((h,w))\n",
    "rcvdpic2=np.zeros((h,w))\n",
    "\n",
    "# Iterate through the pixel arrays:\n",
    "for i in range(h):\n",
    "    for j in range(w):\n",
    "        pixval=pixar1[i][j]\n",
    "        # chip pic1 pixel into channel\n",
    "        chan+=send(pixval,chip1)\n",
    "        pixval=pixar2[i][j]\n",
    "        # chip pic2 pixel into channel\n",
    "        chan+=send(pixval,chip2, 4)\n",
    "        # decode the signal and add it to the pixel list\n",
    "        rcvdpic1[i][j]=recv(chan,chip1)\n",
    "        rcvdpic2[i][j]=recv(chan,chip2)\n",
    "        # reset the channel for next transmission\n",
    "        for k in range(len(chan)):\n",
    "            chan[k]=0.00\n",
    "\n",
    "# plot out the decoded images\n",
    "fig1=pl.figure('Orig. pics')\n",
    "pl.subplot(121)  \n",
    "pl.imshow(rcvdpic1,interpolation='nearest',cmap=pl.cm.gray)\n",
    "pl.xlabel('Image 1')\n",
    "pl.subplot(122)\n",
    "pl.imshow(rcvdpic2,interpolation='nearest',cmap=pl.cm.gray)\n",
    "pl.xlabel('Image 2')"
   ]
  },
  {
   "cell_type": "markdown",
   "metadata": {},
   "source": [
    "**Task 3**. Simulate the scanerios when user B sends in double, triple, or quadruple power. What will happen?"
   ]
  },
  {
   "cell_type": "code",
   "execution_count": null,
   "metadata": {
    "collapsed": true
   },
   "outputs": [],
   "source": [
    "## See how bad the near-far effect can get ...\n",
    "When user B sends more power, the near far effect become more serious.\n",
    "When we sent picture B with quadruple, the first image is almost the same as the second image(data from user B).\n",
    "That is because the near-far effect make the first image data was drown in data B.\n",
    "\n",
    "\n",
    "\n"
   ]
  },
  {
   "cell_type": "markdown",
   "metadata": {},
   "source": [
    "**Bonus Task**. Redesign the chips so as to mitigate or remove the near-far effect."
   ]
  },
  {
   "cell_type": "code",
   "execution_count": 22,
   "metadata": {
    "collapsed": false
   },
   "outputs": [
    {
     "data": {
      "text/plain": [
       "<matplotlib.text.Text at 0x116aa0750>"
      ]
     },
     "execution_count": 22,
     "metadata": {},
     "output_type": "execute_result"
    },
    {
     "data": {
      "image/png": "[encoded data removed]",
      "text/plain": [
       "<matplotlib.figure.Figure at 0x116a21f90>"
      ]
     },
     "metadata": {},
     "output_type": "display_data"
    }
   ],
   "source": [
    "## code ...\n",
    "import pylab as pl\n",
    "%matplotlib inline\n",
    "\n",
    "# Redefine the recv()...\n",
    "def recv(chan,chip):\n",
    "    # do a correlation\n",
    "    corr=np.sum(chan*chip)\n",
    "    #print \"(\", corr,\")\",\n",
    "    if corr>0: return '1'\n",
    "    else: \n",
    "        return '0'\n",
    "    \n",
    "# my encoding chips\n",
    "chip1=np.array([1,1,-1,1,1,-1])\n",
    "#chip2=np.array([1,1,-1,-1,1,1])\n",
    "# re-design my chips so the the chip1 and chip2 are now orthogonal signels. \n",
    "chip2=np.array([1,-1,-1,-1,1,1])\n",
    "\n",
    "\n",
    "### Read pictures into pixel arrays\n",
    "pixar1=pl.imread('Einstein.png')\n",
    "pixar2=pl.imread('Monroe.png')\n",
    "h,w=pixar1.shape\n",
    "\n",
    "\n",
    "# allocate new 2-D arrays to hold recvd pics   \n",
    "rcvdpic1=np.zeros((h,w))\n",
    "rcvdpic2=np.zeros((h,w))\n",
    "\n",
    "# Iterate through the pixel arrays:\n",
    "for i in range(h):\n",
    "    for j in range(w):\n",
    "        pixval=pixar1[i][j]\n",
    "        # chip pic1 pixel into channel\n",
    "        chan+=send(pixval,chip1)\n",
    "        pixval=pixar2[i][j]\n",
    "        # chip pic2 pixel into channel\n",
    "        chan+=send(pixval,chip2, 4)\n",
    "        # decode the signal and add it to the pixel list\n",
    "        rcvdpic1[i][j]=recv(chan,chip1)\n",
    "        rcvdpic2[i][j]=recv(chan,chip2)\n",
    "        # reset the channel for next transmission\n",
    "        for k in range(len(chan)):\n",
    "            chan[k]=0.00\n",
    "\n",
    "# plot out the decoded images\n",
    "fig1=pl.figure('Orig. pics')\n",
    "pl.subplot(121)  \n",
    "pl.imshow(rcvdpic1,interpolation='nearest',cmap=pl.cm.gray)\n",
    "pl.xlabel('Image 1')\n",
    "pl.subplot(122)\n",
    "pl.imshow(rcvdpic2,interpolation='nearest',cmap=pl.cm.gray)\n",
    "pl.xlabel('Image 2')\n",
    "\n",
    "\n"
   ]
  },
  {
   "cell_type": "code",
   "execution_count": null,
   "metadata": {
    "collapsed": true
   },
   "outputs": [],
   "source": []
  },
  {
   "cell_type": "code",
   "execution_count": null,
   "metadata": {
    "collapsed": true
   },
   "outputs": [],
   "source": []
  },
  {
   "cell_type": "code",
   "execution_count": null,
   "metadata": {
    "collapsed": true
   },
   "outputs": [],
   "source": []
  }
 ],
 "metadata": {
  "kernelspec": {
   "display_name": "Python 2",
   "language": "python",
   "name": "python2"
  },
  "language_info": {
   "codemirror_mode": {
    "name": "ipython",
    "version": 2
   },
   "file_extension": ".py",
   "mimetype": "text/x-python",
   "name": "python",
   "nbconvert_exporter": "python",
   "pygments_lexer": "ipython2",
   "version": "2.7.11"
  }
 },
 "nbformat": 4,
 "nbformat_minor": 0
}
